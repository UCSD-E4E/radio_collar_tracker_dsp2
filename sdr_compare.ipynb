{
 "cells": [
  {
   "cell_type": "code",
   "execution_count": 470,
   "metadata": {},
   "outputs": [],
   "source": [
    "import datetime as dt\n",
    "import glob\n",
    "import os\n",
    "import shutil\n",
    "import struct\n",
    "import time\n",
    "from typing import Dict, List\n",
    "\n",
    "import matplotlib.pyplot as plt; plt.ion()\n",
    "import numpy as np\n",
    "from pathlib import Path\n",
    "\n",
    "\n",
    "from radio_collar_tracker_dsp2 import PingFinder"
   ]
  },
  {
   "cell_type": "code",
   "execution_count": 471,
   "metadata": {},
   "outputs": [],
   "source": [
    "RUN_TIME = 8\n",
    "SDR_TYPE = 3\n",
    "RANGE = \"285\"\n",
    "RX_LOCATION = \"11S 477849 3638135 +/- 3\"\n",
    "TX_LOCATION = \"11S 478124 3638157 +/- 9\"\n",
    "CHART_OUTPUT_DIR = Path(\"/mnt/data/2022.07.25.RCT_SDRCompare/\")"
   ]
  },
  {
   "cell_type": "code",
   "execution_count": 472,
   "metadata": {},
   "outputs": [],
   "source": [
    "if SDR_TYPE == 1:\n",
    "    target_freq = 173965000\n",
    "    bit_depth = 16\n",
    "    sdr_name = \"USRP\"\n",
    "elif SDR_TYPE == 2:\n",
    "    target_freq = 173965000\n",
    "    bit_depth = 12\n",
    "    sdr_name = \"AirSpy\"\n",
    "elif SDR_TYPE == 3:\n",
    "    target_freq = 173963000\n",
    "    bit_depth = 8\n",
    "    sdr_name = \"HackRF\""
   ]
  },
  {
   "cell_type": "code",
   "execution_count": 473,
   "metadata": {},
   "outputs": [],
   "source": [
    "callback_called = 0\n",
    "\n",
    "pings: List[float] = []\n",
    "def phony_callback(now: dt.datetime, amplitude:float, frequency: int):\n",
    "    global pings\n",
    "    assert(isinstance(now, dt.datetime))\n",
    "    assert(isinstance(amplitude, float))\n",
    "    assert(isinstance(frequency, int))\n",
    "    global callback_called\n",
    "    callback_called += 1\n",
    "    pings.append(amplitude)"
   ]
  },
  {
   "cell_type": "code",
   "execution_count": 474,
   "metadata": {},
   "outputs": [
    {
     "name": "stdout",
     "output_type": "stream",
     "text": [
      "Constructing DSP with width of 25 ms\n",
      "DSP int factor: 7\n",
      "Setting DSP Start to 1658807461208 ms\n",
      "87 len id_len\n",
      "8 len data\n",
      "17 len pk_hist\n",
      "174 len peaks\n",
      "DSP is alive\n",
      "Opening initial ./RAW_DATA_000001_000001\n",
      "Ping 0 at 1658807461s , amplitude 8379.805, threshold: 7316.032, width: 5.734, freq: 173963000, bin: 0 was rejected for being too short!\n",
      "Ping 0 at 1658807461s , amplitude 7697.048, threshold: 7316.321, width: 5.734, freq: 173963000, bin: 0 was rejected for being too short!\n",
      "Ping 1 at 1658807461265ms , amplitude 9421.048, threshold: 7318.357, width: 22.938, freq: 173963000, idx: 0, bin: 379\n",
      "Ping 1 at 1658807461s , amplitude 12781.174, threshold: 7320.459, width: 5.734, freq: 173963000, bin: 0 was rejected for being too short!\n",
      "Ping 2 at 1658807461305ms , amplitude 9628.698, threshold: 7324.397, width: 11.469, freq: 173963000, idx: 0, bin: 379\n",
      "Ping 2 at 1658807461s , amplitude 14179.135, threshold: 7329.044, width: 5.734, freq: 173963000, bin: 0 was rejected for being too short!\n",
      "Ping 2 at 1658807461s , amplitude 15088.248, threshold: 7334.719, width: 5.734, freq: 173963000, bin: 0 was rejected for being too short!\n",
      "Ping 3 at 1658807461345ms , amplitude 19637.194, threshold: 7348.766, width: 11.469, freq: 173963000, idx: 0, bin: 379\n",
      "Ping 4 at 1658807461362ms , amplitude 24195.009, threshold: 7404.255, width: 34.406, freq: 173963000, idx: 0, bin: 379\n",
      "Ping 5 at 1658807461402ms , amplitude 20693.550, threshold: 7493.464, width: 28.672, freq: 173963000, idx: 0, bin: 379\n",
      "Ping 5 at 1658807461s , amplitude 14068.875, threshold: 7769.201, width: 40.141, freq: 173963000, bin: 0 was rejected for being too long!\n",
      "Ping 6 at 1658807461511ms , amplitude 11170.260, threshold: 7973.524, width: 17.203, freq: 173963000, idx: 0, bin: 379\n",
      "Ping 7 at 1658807461552ms , amplitude 18853.919, threshold: 8315.806, width: 17.203, freq: 173963000, idx: 0, bin: 379\n",
      "Ping 7 at 1658807462s , amplitude 7774896.685, threshold: 15962.728, width: 40.141, freq: 173963000, bin: 0 was rejected for being too long!\n",
      "Ping 7 at 1658807462s , amplitude 20389.830, threshold: 35505.139, width: 5.734, freq: 173963000, bin: 0 was rejected for being too short!\n",
      "Ping 7 at 1658807462s , amplitude 26610.313, threshold: 25603.042, width: 5.734, freq: 173963000, bin: 0 was rejected for being too short!\n",
      "Ping 7 at 1658807462s , amplitude 31952.749, threshold: 23983.772, width: 5.734, freq: 173963000, bin: 0 was rejected for being too short!\n",
      "Ping 8 at 1658807462412ms , amplitude 7795077.561, threshold: 45214.249, width: 22.938, freq: 173963000, idx: 0, bin: 379\n",
      "Ping 8 at 1658807463s , amplitude 25510.249, threshold: 24099.667, width: 5.734, freq: 173963000, bin: 0 was rejected for being too short!\n",
      "Ping 8 at 1658807463s , amplitude 25082.028, threshold: 20951.370, width: 5.734, freq: 173963000, bin: 0 was rejected for being too short!\n",
      "Ping 8 at 1658807463s , amplitude 26439.682, threshold: 21429.733, width: 5.734, freq: 173963000, bin: 0 was rejected for being too short!\n",
      "Ping 9 at 1658807463249ms , amplitude 8554083.690, threshold: 45379.364, width: 22.938, freq: 173963000, idx: 0, bin: 379\n",
      "Ping 9 at 1658807464s , amplitude 26264.951, threshold: 26274.556, width: 5.734, freq: 173963000, bin: 0 was rejected for being too short!\n",
      "Ping 10 at 1658807463874ms , amplitude 25952.864, threshold: 23735.371, width: 11.469, freq: 173963000, idx: 0, bin: 379\n",
      "Ping 11 at 1658807464080ms , amplitude 7789110.539, threshold: 40245.736, width: 28.672, freq: 173963000, idx: 0, bin: 379\n",
      "Ping 11 at 1658807464s , amplitude 27173.194, threshold: 28540.493, width: 5.734, freq: 173963000, bin: 0 was rejected for being too short!\n",
      "Ping 11 at 1658807464s , amplitude 39538.873, threshold: 29212.893, width: 5.734, freq: 173963000, bin: 0 was rejected for being too short!\n",
      "Ping 11 at 1658807465s , amplitude 24600.587, threshold: 21745.566, width: 5.734, freq: 173963000, bin: 0 was rejected for being too short!\n",
      "Ping 11 at 1658807465s , amplitude 21516.195, threshold: 24120.052, width: 5.734, freq: 173963000, bin: 0 was rejected for being too short!\n",
      "Ping 11 at 1658807465s , amplitude 26903.108, threshold: 24760.214, width: 5.734, freq: 173963000, bin: 0 was rejected for being too short!\n",
      "Ping 11 at 1658807465s , amplitude 31955.919, threshold: 27169.954, width: 5.734, freq: 173963000, bin: 0 was rejected for being too short!\n",
      "Ping 12 at 1658807464918ms , amplitude 8894357.729, threshold: 54674.343, width: 22.938, freq: 173963000, idx: 0, bin: 379\n",
      "Ping 12 at 1658807465s , amplitude 28150.781, threshold: 19444.488, width: 5.734, freq: 173963000, bin: 0 was rejected for being too short!\n",
      "Ping 12 at 1658807466s , amplitude 21229.527, threshold: 19412.717, width: 5.734, freq: 173963000, bin: 0 was rejected for being too short!\n",
      "Ping 12 at 1658807466s , amplitude 23240.185, threshold: 22022.551, width: 5.734, freq: 173963000, bin: 0 was rejected for being too short!\n",
      "Ping 12 at 1658807466s , amplitude 24866.540, threshold: 24546.516, width: 5.734, freq: 173963000, bin: 0 was rejected for being too short!\n",
      "Ping 13 at 1658807465755ms , amplitude 7279435.967, threshold: 47506.167, width: 22.938, freq: 173963000, idx: 0, bin: 379\n",
      "Ping 13 at 1658807466s , amplitude 31678.399, threshold: 24121.537, width: 5.734, freq: 173963000, bin: 0 was rejected for being too short!\n",
      "Ping 13 at 1658807466s , amplitude 25945.816, threshold: 26250.385, width: 5.734, freq: 173963000, bin: 0 was rejected for being too short!\n",
      "Ping 14 at 1658807466592ms , amplitude 9083760.826, threshold: 37967.647, width: 22.938, freq: 173963000, idx: 0, bin: 379\n",
      "Ping 14 at 1658807467s , amplitude 18751.743, threshold: 22855.379, width: 5.734, freq: 173963000, bin: 0 was rejected for being too short!\n",
      "Ping 15 at 1658807467424ms , amplitude 10268246.355, threshold: 35496.097, width: 28.672, freq: 173963000, idx: 0, bin: 379\n",
      "Ping 15 at 1658807468s , amplitude 21681.945, threshold: 23193.862, width: 5.734, freq: 173963000, bin: 0 was rejected for being too short!\n",
      "Ping 15 at 1658807468s , amplitude 30732.254, threshold: 21927.105, width: 5.734, freq: 173963000, bin: 0 was rejected for being too short!\n",
      "Opening ./RAW_DATA_000001_000002\n",
      "Ping 15 at 1658807468s , amplitude 25125.255, threshold: 28033.415, width: 5.734, freq: 173963000, bin: 0 was rejected for being too short!\n",
      "Ping 15 at 1658807468s , amplitude 23637.398, threshold: 19557.059, width: 5.734, freq: 173963000, bin: 0 was rejected for being too short!\n",
      "Ping 16 at 1658807468261ms , amplitude 8971565.913, threshold: 54376.014, width: 22.938, freq: 173963000, idx: 0, bin: 379\n",
      "Ping 16 at 1658807469s , amplitude 31849.374, threshold: 32533.229, width: 5.734, freq: 173963000, bin: 0 was rejected for being too short!\n",
      "Ping 16 at 1658807469s , amplitude 30446.435, threshold: 23564.029, width: 5.734, freq: 173963000, bin: 0 was rejected for being too short!\n",
      "Ping 16 at 1658807469s , amplitude 20635.525, threshold: 22216.992, width: 5.734, freq: 173963000, bin: 0 was rejected for being too short!\n",
      "Ping 16 at 1658807469s , amplitude 29257.777, threshold: 22277.254, width: 5.734, freq: 173963000, bin: 0 was rejected for being too short!\n",
      "Ping 17 at 1658807469098ms , amplitude 8587438.041, threshold: 53279.919, width: 22.938, freq: 173963000, idx: 0, bin: 379\n",
      "Mean amplitude: 4550742.891913572\n",
      "std.dev: 4317104.102124788\n",
      "num ping: 17\n",
      "SDR Received 19922944 samples, 8 seconds of data\n",
      "DSP_V3 is stopping:\n",
      "Unpack received 19922944 samples, estimated 8 seconds of data\n",
      "Unpack ran 9728 ffts\n",
      "Unpack wrote 64 MB, estimated 7 seconds of data\n",
      "Classifier received 1389 samples, estimated 8 s\n"
     ]
    }
   ],
   "source": [
    "ping_finder = PingFinder()\n",
    "ping_finder.gain = 56.0\n",
    "ping_finder.sampling_rate = 2500000\n",
    "ping_finder.center_frequency = 173500000\n",
    "ping_finder.run_num = 1\n",
    "ping_finder.enable_test_data = False\n",
    "ping_finder.output_dir = '.'\n",
    "ping_finder.ping_width_ms = 25\n",
    "ping_finder.ping_min_snr = 25\n",
    "ping_finder.ping_max_len_mult = 1.5\n",
    "ping_finder.ping_min_len_mult = 0.5\n",
    "ping_finder.target_frequencies = [target_freq]\n",
    "\n",
    "ping_finder.sdr_type = SDR_TYPE\n",
    "\n",
    "if ping_finder.sdr_type == 1:\n",
    "    ping_finder.gain = 56.0\n",
    "elif ping_finder.sdr_type == 2:\n",
    "    ping_finder.gain = 14.0\n",
    "elif ping_finder.sdr_type == 3:\n",
    "    ping_finder.gain = 40.0\n",
    "\n",
    "ping_finder.register_callback(phony_callback)\n",
    "raw_files = glob.glob(os.path.join(ping_finder.output_dir, f\"RAW_DATA_{ping_finder.run_num:06d}_*\"))\n",
    "for f in raw_files:\n",
    "    os.remove(f)\n",
    "\n",
    "ping_finder.start()\n",
    "\n",
    "time.sleep(RUN_TIME)\n",
    "\n",
    "ping_finder.stop()\n",
    "\n",
    "print(f\"Mean amplitude: {np.mean(pings)}\")\n",
    "print(f\"std.dev: {np.std(pings)}\")\n",
    "print(f'num ping: {len(pings)}')"
   ]
  },
  {
   "cell_type": "code",
   "execution_count": 475,
   "metadata": {},
   "outputs": [],
   "source": [
    "FFT_LEN = 2048\n",
    "f_s = 2500000\n",
    "f_c = 173500000\n",
    "\n",
    "integral_len = int(np.floor(0.06 * f_s / FFT_LEN))\n",
    "freqs = np.fft.fftshift(np.fft.fftfreq(FFT_LEN, 1.0/f_s))\n",
    "closest_freq = min(freqs, key=lambda x:abs(x - (target_freq - f_c)))\n",
    "fft_bin = min(range(len(freqs)), key=lambda x: abs(freqs[x] - (target_freq - f_c)))"
   ]
  },
  {
   "cell_type": "code",
   "execution_count": 476,
   "metadata": {},
   "outputs": [
    {
     "data": {
      "text/plain": [
       "'/mnt/data/2022.07.25.RCT_SDRCompare/HackRF_285m.bin'"
      ]
     },
     "execution_count": 476,
     "metadata": {},
     "output_type": "execute_result"
    }
   ],
   "source": [
    "data_dir = \"/home/ntlhui/workspace/radio_collar_tracker_dsp2\"\n",
    "raw_files = sorted(glob.glob(os.path.join(data_dir, 'RAW_DATA_*')))\n",
    "\n",
    "samples = []\n",
    "\n",
    "shutil.copy(raw_files[0], CHART_OUTPUT_DIR.joinpath(f\"{sdr_name}_{RANGE}m.bin\").as_posix())"
   ]
  },
  {
   "cell_type": "code",
   "execution_count": 477,
   "metadata": {},
   "outputs": [],
   "source": [
    "raw_file = raw_files[0]\n",
    "with open(raw_file, 'rb') as data_file:\n",
    "    data = data_file.read()\n",
    "scale_factor = 2 ** bit_depth\n",
    "for i in range(int(len(data) / 4)):\n",
    "    tsample = struct.unpack('hh', data[i * 4:(i+1) * 4])\n",
    "    sample = (tsample[0] + tsample[1] * 1j) / scale_factor\n",
    "    samples.append(sample)\n",
    "seq_samples = np.array(samples)\n",
    "arr_samples = np.reshape(seq_samples[0:FFT_LEN*int(len(samples) / FFT_LEN)], (FFT_LEN, int(len(samples) / FFT_LEN)), order='F')\n",
    "f_samp = np.fft.fft(arr_samples, axis=0) / FFT_LEN\n",
    "waterfall = np.power(np.abs(np.fft.fftshift(f_samp, axes=0)), 2)"
   ]
  },
  {
   "cell_type": "code",
   "execution_count": 478,
   "metadata": {},
   "outputs": [
    {
     "data": {
      "image/png": "[encoded data removed]",
      "text/plain": [
       "<Figure size 432x288 with 2 Axes>"
      ]
     },
     "metadata": {
      "needs_background": "light"
     },
     "output_type": "display_data"
    }
   ],
   "source": [
    "fig, ax = plt.subplots(1)\n",
    "waterfall_extents = ((f_c - f_s / 2) / 1e6, (f_c + f_s / 2) / 1e6, len(seq_samples) / f_s, 0)\n",
    "waterfall_plt = plt.imshow(waterfall.transpose(), aspect='auto', extent=waterfall_extents)\n",
    "waterfall_cbr = plt.colorbar()\n",
    "plt.ylabel('Time (s)')\n",
    "plt.xlabel('Frequency (MHz)')\n",
    "waterfall_cbr.set_label('Signal Strength (dBFS)')\n",
    "plt.xlim(target_freq/1e6 - 0.005, target_freq/1e6 + 0.005)\n",
    "plt.title('Waterfall Plot')\n",
    "plt.savefig(CHART_OUTPUT_DIR.joinpath(f\"{sdr_name}_{RANGE}m_waterfall.png\").as_posix())"
   ]
  },
  {
   "cell_type": "code",
   "execution_count": 479,
   "metadata": {},
   "outputs": [
    {
     "data": {
      "image/png": "[encoded data removed]",
      "text/plain": [
       "<Figure size 432x288 with 1 Axes>"
      ]
     },
     "metadata": {
      "needs_background": "light"
     },
     "output_type": "display_data"
    }
   ],
   "source": [
    "freq_isolate = waterfall[fft_bin,:]\n",
    "freq_energy = np.zeros(int(len(freq_isolate) / integral_len))\n",
    "\n",
    "for i in range(len(freq_energy)):\n",
    "    freq_energy[i] = np.sum(freq_isolate[i * integral_len:(i + 1) * integral_len - 1])\n",
    "t = np.arange(len(freq_energy)) / (len(freq_energy) - 1) * waterfall_extents[2]\n",
    "fig1, ax = plt.subplots(1)\n",
    "plt.plot(t, freq_energy)\n",
    "plt.ylabel('Energy')\n",
    "plt.xlabel('Time (s)')\n",
    "plt.title('Ping Signal Energy')\n",
    "plt.savefig(CHART_OUTPUT_DIR.joinpath(f\"{sdr_name}_{RANGE}m_energy.png\").as_posix())\n"
   ]
  },
  {
   "cell_type": "code",
   "execution_count": 480,
   "metadata": {},
   "outputs": [
    {
     "data": {
      "image/png": "[encoded data removed]",
      "text/plain": [
       "<Figure size 432x288 with 1 Axes>"
      ]
     },
     "metadata": {
      "needs_background": "light"
     },
     "output_type": "display_data"
    }
   ],
   "source": [
    "plt.plot(waterfall[fft_bin,:])\n",
    "plt.ylabel('Signal Strength (dBFS)')\n",
    "plt.xlabel('Sample')\n",
    "plt.title(\"Ping Power\")\n",
    "plt.savefig(CHART_OUTPUT_DIR.joinpath(f\"{sdr_name}_{RANGE}m_power.png\").as_posix())\n"
   ]
  },
  {
   "cell_type": "code",
   "execution_count": 481,
   "metadata": {},
   "outputs": [],
   "source": [
    "with open(CHART_OUTPUT_DIR.joinpath(f\"{sdr_name}_{RANGE}m_notes.txt\").as_posix(), 'w') as note_file:\n",
    "    note_file.write(f\"TX Location: {TX_LOCATION}\\n\")\n",
    "    note_file.write(f\"RX Location: {RX_LOCATION}\\n\")\n",
    "    note_file.write(f\"bit depth: {bit_depth}\\n\")\n",
    "    note_file.write(f'target freq: {target_freq}\\n')"
   ]
  }
 ],
 "metadata": {
  "interpreter": {
   "hash": "0488fa3624327bfbd9c6c8f5b772ceb7285fdcc9cf208d8bb13f15f962cb1322"
  },
  "kernelspec": {
   "display_name": "Python 3.7.5 ('.venv': venv)",
   "language": "python",
   "name": "python3"
  },
  "language_info": {
   "codemirror_mode": {
    "name": "ipython",
    "version": 3
   },
   "file_extension": ".py",
   "mimetype": "text/x-python",
   "name": "python",
   "nbconvert_exporter": "python",
   "pygments_lexer": "ipython3",
   "version": "3.7.5"
  },
  "orig_nbformat": 4
 },
 "nbformat": 4,
 "nbformat_minor": 2
}
